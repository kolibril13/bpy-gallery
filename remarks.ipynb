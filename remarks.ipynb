{
 "cells": [
  {
   "cell_type": "code",
   "execution_count": null,
   "metadata": {},
   "outputs": [],
   "source": [
    "attr_name = 'my_float'\n",
    "attr = plane.data.attributes.get(attr_name)\n",
    "if attr is None:\n",
    "    attr = plane.data.attributes.new(name=attr_name,type='FLOAT',domain='POINT')\n",
    "values = [2.0, 3.0, 4.2, 5.2]\n",
    "attr.data.foreach_set('value', values)\n",
    "plane.data.update()\n",
    "render_result()"
   ]
  },
  {
   "cell_type": "markdown",
   "metadata": {},
   "source": [
    "# Final Remark (attributes)\n",
    "\n",
    "When Reunning cells multiple times, this syntax might be useful:"
   ]
  },
  {
   "cell_type": "markdown",
   "metadata": {},
   "source": [
    "and this is how the spreadsheet looks like (Screenshot from the blender GUI)\n",
    "![image.png](attachment:image.png)\n",
    "\n",
    "Let's start to pipe data into these vertices!"
   ]
  },
  {
   "cell_type": "markdown",
   "metadata": {},
   "source": []
  }
 ],
 "metadata": {
  "kernelspec": {
   "display_name": "Python 3",
   "language": "python",
   "name": "python3"
  },
  "language_info": {
   "codemirror_mode": {
    "name": "ipython",
    "version": 3
   },
   "file_extension": ".py",
   "mimetype": "text/x-python",
   "name": "python",
   "nbconvert_exporter": "python",
   "pygments_lexer": "ipython3",
   "version": "3.13.0"
  }
 },
 "nbformat": 4,
 "nbformat_minor": 2
}
