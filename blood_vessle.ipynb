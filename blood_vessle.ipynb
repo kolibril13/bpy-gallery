{
 "cells": [
  {
   "cell_type": "code",
   "execution_count": null,
   "metadata": {},
   "outputs": [],
   "source": [
    "import bpy\n",
    "from IPython.display import display, Image\n",
    "\n",
    "\n",
    "def render_image(resx=200, resy = 100):\n",
    "    path = \"test.png\"\n",
    "    bpy.context.scene.render.resolution_x = resx\n",
    "    bpy.context.scene.render.resolution_y = resy\n",
    "    bpy.context.scene.render.image_settings.file_format = 'PNG'\n",
    "    bpy.ops.render.render()\n",
    "    bpy.data.images['Render Result'].save_render(filepath=path)\n",
    "    display(Image(filename=path, width=500))\n",
    "\n",
    "\n",
    "bpy.ops.wm.open_mainfile(filepath=\"blood_vessel.blend\")\n",
    "\n",
    "artery_object = bpy.data.objects['Artery']\n",
    "\n",
    "render_image(resx = 500, resy = 300)"
   ]
  },
  {
   "cell_type": "code",
   "execution_count": 2,
   "metadata": {},
   "outputs": [],
   "source": [
    "import sys\n",
    "import os\n",
    "\n",
    "sys.stdout = open(os.devnull, 'w')\n",
    "sys.stderr = open(os.devnull, 'w')"
   ]
  },
  {
   "cell_type": "code",
   "execution_count": null,
   "metadata": {},
   "outputs": [],
   "source": []
  }
 ],
 "metadata": {
  "kernelspec": {
   "display_name": "Python 3 (ipykernel)",
   "language": "python",
   "name": "python3"
  },
  "language_info": {
   "codemirror_mode": {
    "name": "ipython",
    "version": 3
   },
   "file_extension": ".py",
   "mimetype": "text/x-python",
   "name": "python",
   "nbconvert_exporter": "python",
   "pygments_lexer": "ipython3",
   "version": "3.10.13"
  }
 },
 "nbformat": 4,
 "nbformat_minor": 4
}
