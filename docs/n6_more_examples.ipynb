{
 "cells": [
  {
   "cell_type": "code",
   "execution_count": null,
   "metadata": {},
   "outputs": [],
   "source": [
    "import bpy\n",
    "import contextlib\n",
    "\n",
    "# Suppress output\n",
    "with contextlib.redirect_stdout(None):\n",
    "    bpy.ops.outliner.orphans_purge(do_recursive=True)\n"
   ]
  }
 ],
 "metadata": {
  "language_info": {
   "name": "python"
  }
 },
 "nbformat": 4,
 "nbformat_minor": 2
}
