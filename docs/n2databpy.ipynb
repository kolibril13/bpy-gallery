{
 "cells": [
  {
   "cell_type": "markdown",
   "metadata": {},
   "source": [
    "# Databpy\n",
    "\n",
    "https://github.com/BradyAJohnston/databpy"
   ]
  },
  {
   "cell_type": "code",
   "execution_count": 2,
   "metadata": {},
   "outputs": [
    {
     "data": {
      "text/plain": [
       "'Mesh1'"
      ]
     },
     "execution_count": 2,
     "metadata": {},
     "output_type": "execute_result"
    }
   ],
   "source": [
    "import numpy as np\n",
    "import databpy as db\n",
    "\n",
    "vertex = np.array([[0, 0, 0]])  \n",
    "obj = db.create_bob(vertex, name=\"Mesh1\")\n",
    "obj.name"
   ]
  },
  {
   "cell_type": "code",
   "execution_count": 3,
   "metadata": {},
   "outputs": [
    {
     "data": {
      "text/plain": [
       "array([[0., 0., 0.]])"
      ]
     },
     "execution_count": 3,
     "metadata": {},
     "output_type": "execute_result"
    }
   ],
   "source": [
    "obj.position"
   ]
  },
  {
   "cell_type": "code",
   "execution_count": 4,
   "metadata": {},
   "outputs": [
    {
     "data": {
      "text/plain": [
       "'Mesh2'"
      ]
     },
     "execution_count": 4,
     "metadata": {},
     "output_type": "execute_result"
    }
   ],
   "source": [
    "import numpy as np\n",
    "import databpy as db\n",
    "\n",
    "coords = np.random.rand(20, 3)  \n",
    "obj = db.create_bob(coords, name=\"Mesh2\")\n",
    "obj.name"
   ]
  },
  {
   "cell_type": "code",
   "execution_count": 5,
   "metadata": {},
   "outputs": [
    {
     "data": {
      "text/plain": [
       "array([[0.1291904 , 0.00317181, 0.5135445 ],\n",
       "       [0.94508129, 0.86277646, 0.97644675],\n",
       "       [0.00203336, 0.87146598, 0.40898171]])"
      ]
     },
     "execution_count": 5,
     "metadata": {},
     "output_type": "execute_result"
    }
   ],
   "source": [
    "obj.position[:3] # first three"
   ]
  },
  {
   "cell_type": "code",
   "execution_count": 6,
   "metadata": {},
   "outputs": [
    {
     "name": "stdout",
     "output_type": "stream",
     "text": [
      "Mesh2M\n",
      "CPU times: user 701 ms, sys: 40 ms, total: 741 ms\n",
      "Wall time: 736 ms\n"
     ]
    }
   ],
   "source": [
    "%%time\n",
    "import numpy as np\n",
    "import databpy as db\n",
    "\n",
    "# Generate 2 million random 3D points\n",
    "coords = np.random.rand(2_000_000, 3)\n",
    "\n",
    "# Create a mesh object using databpy\n",
    "obj = db.create_bob(coords, name=\"Mesh2M\")\n",
    "print(obj.name)"
   ]
  },
  {
   "cell_type": "markdown",
   "metadata": {},
   "source": [
    "# Setting Attributes\n",
    "\n",
    "To run the code below, first install the Blender extension from the following link:\n",
    "https://extensions.blender.org/add-ons/csv-importer/"
   ]
  },
  {
   "cell_type": "code",
   "execution_count": 7,
   "metadata": {},
   "outputs": [],
   "source": [
    "import numpy as np\n",
    "import polars as pl\n",
    "from csv_importer.parsers import polars_df_to_bob\n",
    "\n",
    "df = pl.DataFrame(\n",
    "    {\n",
    "        \"Intensity\": [10, 20],\n",
    "    }\n",
    ")\n",
    "bob = polars_df_to_bob(df, name=\"MeshInt\")"
   ]
  },
  {
   "cell_type": "code",
   "execution_count": 8,
   "metadata": {},
   "outputs": [],
   "source": [
    "import numpy as np\n",
    "import polars as pl\n",
    "from csv_importer.parsers import polars_df_to_bob\n",
    "\n",
    "df = pl.DataFrame(\n",
    "    {\n",
    "        \"opacity\": [0.34, 0.92],\n",
    "    }\n",
    ")\n",
    "bob = polars_df_to_bob(df, name=\"MeshFloat\")"
   ]
  },
  {
   "cell_type": "code",
   "execution_count": 9,
   "metadata": {},
   "outputs": [],
   "source": [
    "import numpy as np\n",
    "import polars as pl\n",
    "from csv_importer.parsers import polars_df_to_bob\n",
    "\n",
    "df = pl.DataFrame(\n",
    "    {\n",
    "        \"Is_Visible\": [True, False],\n",
    "    }\n",
    ")\n",
    "bob = polars_df_to_bob(df, name=\"MeshBool\")"
   ]
  },
  {
   "cell_type": "code",
   "execution_count": 10,
   "metadata": {},
   "outputs": [],
   "source": [
    "import numpy as np\n",
    "import polars as pl\n",
    "from csv_importer.parsers import polars_df_to_bob\n",
    "\n",
    "df = pl.DataFrame({\n",
    "    \"Star\": [\n",
    "        [3.4, 3.5, 0.0],\n",
    "        [3.1, 5.6, 0.0]\n",
    "    ]\n",
    "})\n",
    "obj = polars_df_to_bob(df, name=\"MeshVector\")"
   ]
  },
  {
   "cell_type": "code",
   "execution_count": 11,
   "metadata": {},
   "outputs": [],
   "source": [
    "import numpy as np\n",
    "import polars as pl\n",
    "from csv_importer.parsers import polars_df_to_bob\n",
    "\n",
    "df = pl.DataFrame({\n",
    "    \"String\": [\"Hello\", \"World\"],\n",
    "})\n",
    "# Stings are not supported\n",
    "obj = polars_df_to_bob(df, name=\"MeshVector\")"
   ]
  },
  {
   "cell_type": "code",
   "execution_count": 12,
   "metadata": {},
   "outputs": [],
   "source": [
    "# all together\n",
    "import numpy as np\n",
    "import polars as pl\n",
    "from csv_importer.parsers import polars_df_to_bob\n",
    "\n",
    "df = pl.DataFrame({\n",
    "    \"Intensity\": [10, 20],\n",
    "    \"opacity\": [0.34, 0.92],\n",
    "    \"Is_Visible\": [True, False],\n",
    "    \"Star\": [\n",
    "        [3.4, 3.5, 0.0],\n",
    "        [3.1, 5.6, 0.0]\n",
    "    ]\n",
    "})\n",
    "obj = polars_df_to_bob(df, name=\"MeshVector\")"
   ]
  },
  {
   "cell_type": "code",
   "execution_count": 13,
   "metadata": {},
   "outputs": [
    {
     "name": "stdout",
     "output_type": "stream",
     "text": [
      "CSV_data_california_housing\n"
     ]
    }
   ],
   "source": [
    "from pathlib import Path\n",
    "from csv_importer.csv import load_csv\n",
    "\n",
    "csv_path = Path.home() / \"projects\" / \"blender_csv_import\" / \"docs\" / \"sample_datasets\" / \"data_california_housing.csv\"\n",
    "\n",
    "# `load_csv` is like `like polars_df_to_bob`, but with a csv path input\n",
    "obj = load_csv(csv_path) \n",
    " \n",
    "print(obj.name)"
   ]
  },
  {
   "cell_type": "code",
   "execution_count": null,
   "metadata": {},
   "outputs": [],
   "source": []
  }
 ],
 "metadata": {
  "kernelspec": {
   "display_name": "Python 3 (ipykernel)",
   "language": "python",
   "name": "python3"
  },
  "language_info": {
   "codemirror_mode": {
    "name": "ipython",
    "version": 3
   },
   "file_extension": ".py",
   "mimetype": "text/x-python",
   "name": "python",
   "nbconvert_exporter": "python",
   "pygments_lexer": "ipython3",
   "version": "3.11.9"
  }
 },
 "nbformat": 4,
 "nbformat_minor": 4
}
