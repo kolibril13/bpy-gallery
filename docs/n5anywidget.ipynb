{
 "cells": [
  {
   "attachments": {},
   "cell_type": "markdown",
   "id": "a9e02a0c-6819-4ed6-bed8-04e31171e678",
   "metadata": {},
   "source": [
    "# Anywidget\n",
    "https://anywidget.dev/en/getting-started/"
   ]
  },
  {
   "cell_type": "code",
   "execution_count": null,
   "id": "e110cc9d-a81b-491d-97d6-6c9040e6835f",
   "metadata": {},
   "outputs": [],
   "source": [
    "import bpy\n",
    "cube = bpy.data.objects['Cube']"
   ]
  },
  {
   "cell_type": "code",
   "execution_count": null,
   "id": "2d5b8c38-4433-4f46-87f8-5053b5d57e41",
   "metadata": {},
   "outputs": [],
   "source": [
    "import anywidget\n",
    "import traitlets\n",
    "\n",
    "class CounterWidget(anywidget.AnyWidget):\n",
    "    _esm = \"\"\"\n",
    "    function render({ model, el }) {\n",
    "      let button = document.createElement(\"button\");\n",
    "      button.innerHTML = `count is ${model.get(\"value\")}`;\n",
    "      button.addEventListener(\"click\", () => {\n",
    "        model.set(\"value\", model.get(\"value\") + 1);\n",
    "        model.save_changes();\n",
    "      });\n",
    "      model.on(\"change:value\", () => {\n",
    "        button.innerHTML = `count is ${model.get(\"value\")}`;\n",
    "      });\n",
    "      el.classList.add(\"counter-widget\");\n",
    "      el.appendChild(button);\n",
    "    }\n",
    "    export default { render };\n",
    "    \"\"\"\n",
    "    _css = \"\"\"\n",
    "    .counter-widget button { color: red; font-size: 1.75rem; background-color: #ea580c; padding: 0.5rem 1rem; border: none; border-radius: 0.25rem; }\n",
    "    .counter-widget button:hover { background-color: #9a3412; }\n",
    "    \"\"\"\n",
    "    value = traitlets.Int(0).tag(sync=True)\n",
    "\n",
    "widget = CounterWidget(value=-2)\n",
    "widget "
   ]
  },
  {
   "cell_type": "code",
   "execution_count": null,
   "id": "700cdfde-2c4e-4244-a5fa-ef1a1d996db6",
   "metadata": {},
   "outputs": [],
   "source": [
    "widget.value"
   ]
  },
  {
   "cell_type": "code",
   "execution_count": null,
   "id": "099a3209-8c84-4914-8e16-92363f39ca9f",
   "metadata": {},
   "outputs": [],
   "source": [
    "def update_cube_translation(translation_value):\n",
    "    cube.location.z = translation_value\n",
    "    bpy.context.view_layer.update()\n",
    "\n",
    "# Function to handle slider value changes\n",
    "def on_slider_change(change):\n",
    "    update_cube_translation(change['new'])\n",
    "\n",
    "# Observe the slider\n",
    "widget.observe(on_slider_change, names='value')\n",
    "\n",
    "# Initial update of the cube's translation\n",
    "update_cube_translation(widget.value)"
   ]
  },
  {
   "cell_type": "code",
   "execution_count": null,
   "id": "4240da02-2999-4d94-9829-7539371f584f",
   "metadata": {},
   "outputs": [],
   "source": [
    "import bpy\n",
    "cube = bpy.data.objects['Cube']"
   ]
  },
  {
   "cell_type": "code",
   "execution_count": null,
   "id": "dcd4ef22-825b-4347-a96d-3dfa670a53a7",
   "metadata": {},
   "outputs": [],
   "source": [
    "import anywidget\n",
    "import traitlets\n",
    "\n",
    "class HelloWidget(anywidget.AnyWidget):\n",
    "    _esm = \"\"\"\n",
    "        import \"https://esm.sh/vanilla-colorful@0.7.2\";\n",
    "\n",
    "        function render({ model, el }) {\n",
    "        // Create the container for the color picker\n",
    "        let container = document.createElement(\"div\");\n",
    "        container.style.position = \"relative\"; \n",
    "        container.style.width = \"300px\"; \n",
    "        container.style.height = \"300px\"; \n",
    "        el.appendChild(container);\n",
    "\n",
    "        // Create the input element for the color picker\n",
    "        let colorPicker = document.createElement(\"hex-color-picker\");\n",
    "        colorPicker.color = \"#1e88e5\"; // Set the initial color\n",
    "        container.appendChild(colorPicker);\n",
    "\n",
    "        // Function to calculate brightness from RGB\n",
    "        function getBrightness(hexColor) {\n",
    "            let r = parseInt(hexColor.slice(1, 3), 16);\n",
    "            let g = parseInt(hexColor.slice(3, 5), 16);\n",
    "            let b = parseInt(hexColor.slice(5, 7), 16);\n",
    "            // Calculate brightness\n",
    "            return Math.round(0.299 * r + 0.587 * g + 0.114 * b);\n",
    "        }\n",
    "\n",
    "        // Add an event listener for color changes\n",
    "        colorPicker.addEventListener(\"color-changed\", (event) => {\n",
    "            const newColor = event.detail.value;\n",
    "            const brightness = getBrightness(newColor);  // Calculate brightness\n",
    "            model.set('brightness_value', brightness);  // Update the brightness traitlet\n",
    "            model.save_changes();\n",
    "        });\n",
    "\n",
    "        // Get current color value and initial brightness\n",
    "        const initialBrightness = getBrightness(colorPicker.color);\n",
    "        model.set('brightness_value', initialBrightness);  // Set initial brightness\n",
    "        model.save_changes();\n",
    "        }\n",
    "\n",
    "        export default { render };\n",
    "    \"\"\"\n",
    "\n",
    "    brightness_value = traitlets.Int(0).tag(sync=True)  # Initial brightness is set to 0\n",
    "\n",
    "widget2 = HelloWidget()\n",
    "widget2"
   ]
  },
  {
   "cell_type": "code",
   "execution_count": null,
   "id": "1cae1e68-71fa-451c-9123-28ad4aaa1b69",
   "metadata": {},
   "outputs": [],
   "source": [
    "def update_cube_translation2(translation_value):\n",
    "    cube.location.z = translation_value /100 *2\n",
    "    bpy.context.view_layer.update()\n",
    "\n",
    "# Function to handle slider value changes\n",
    "def on_slider_change2(change):\n",
    "    update_cube_translation2(change['new'])\n",
    "\n",
    "# Observe the slider\n",
    "widget2.observe(on_slider_change2, names='brightness_value')\n",
    "\n",
    "# Initial update of the cube's translation\n",
    "update_cube_translation2(widget2.brightness_value)"
   ]
  },
  {
   "cell_type": "code",
   "execution_count": null,
   "id": "a012f6d4-3e6b-4d4a-a563-48f58826e9fc",
   "metadata": {},
   "outputs": [],
   "source": []
  }
 ],
 "metadata": {
  "kernelspec": {
   "display_name": "blender",
   "language": "python",
   "name": "blender"
  },
  "language_info": {
   "codemirror_mode": {
    "name": "ipython",
    "version": 3
   },
   "file_extension": ".py",
   "mimetype": "text/x-python",
   "name": "python",
   "nbconvert_exporter": "python",
   "pygments_lexer": "ipython3",
   "version": "3.11.10"
  }
 },
 "nbformat": 4,
 "nbformat_minor": 5
}
