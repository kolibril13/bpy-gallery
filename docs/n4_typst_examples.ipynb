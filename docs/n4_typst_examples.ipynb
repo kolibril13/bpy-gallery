{
 "cells": [
  {
   "cell_type": "markdown",
   "metadata": {},
   "source": [
    "# Typst Express Docs"
   ]
  },
  {
   "cell_type": "code",
   "execution_count": 2,
   "metadata": {},
   "outputs": [],
   "source": [
    "%reload_ext autoreload\n",
    "%autoreload 2"
   ]
  },
  {
   "cell_type": "code",
   "execution_count": 3,
   "metadata": {},
   "outputs": [
    {
     "ename": "ModuleNotFoundError",
     "evalue": "No module named 'typst_importer'",
     "output_type": "error",
     "traceback": [
      "\u001b[0;31m---------------------------------------------------------------------------\u001b[0m",
      "\u001b[0;31mModuleNotFoundError\u001b[0m                       Traceback (most recent call last)",
      "Cell \u001b[0;32mIn[3], line 10\u001b[0m\n\u001b[1;32m      7\u001b[0m         \u001b[38;5;28;01mdel\u001b[39;00m sys\u001b[38;5;241m.\u001b[39mmodules[mod]\n\u001b[1;32m      9\u001b[0m \u001b[38;5;66;03m# Now Python 'forgets' those imports. Reimport them:\u001b[39;00m\n\u001b[0;32m---> 10\u001b[0m \u001b[38;5;28;01mfrom\u001b[39;00m \u001b[38;5;21;01mtypst_importer\u001b[39;00m\u001b[38;5;21;01m.\u001b[39;00m\u001b[38;5;21;01mtypst_to_svg\u001b[39;00m \u001b[38;5;28;01mimport\u001b[39;00m typst_express\n\u001b[1;32m     11\u001b[0m \u001b[38;5;28;01mfrom\u001b[39;00m \u001b[38;5;21;01mtypst_importer\u001b[39;00m\u001b[38;5;21;01m.\u001b[39;00m\u001b[38;5;21;01mcurve_utils\u001b[39;00m \u001b[38;5;28;01mimport\u001b[39;00m shift_scene_content\n",
      "\u001b[0;31mModuleNotFoundError\u001b[0m: No module named 'typst_importer'"
     ]
    },
    {
     "name": "stdout",
     "output_type": "stream",
     "text": [
      "Info: Cleared System Clipboard\n"
     ]
    }
   ],
   "source": [
    "import sys\n",
    "# just in case reload_ext does not work\n",
    "# Remove the modules if they exist in sys.modules\n",
    "for mod in [\"typst_importer.typst_to_svg\", \"typst_importer.curve_utils\", \"typst_importer.svg_preprocessing\"]:\n",
    "    if mod in sys.modules:\n",
    "        print(f\"Removing {mod} from sys.modules\")\n",
    "        del sys.modules[mod]\n",
    "\n",
    "# Now Python 'forgets' those imports. Reimport them:\n",
    "from typst_importer.typst_to_svg import typst_express\n",
    "from typst_importer.curve_utils import shift_scene_content"
   ]
  },
  {
   "cell_type": "code",
   "execution_count": 6,
   "metadata": {},
   "outputs": [],
   "source": [
    "from typst_importer.typst_to_svg import typst_express\n",
    "from typst_importer.curve_utils import shift_scene_content\n",
    "\n",
    "c = typst_express(\"$ a = b/d$\", scale_factor=100, origin_to_char=False)\n",
    "shift_scene_content(c)  "
   ]
  },
  {
   "cell_type": "code",
   "execution_count": 7,
   "metadata": {},
   "outputs": [
    {
     "name": "stdout",
     "output_type": "stream",
     "text": [
      "Read blend: \"/Users/jan-hendrik/projects/bouning_equation/thumbnail_typst.blend\"\n",
      "Info: Cleared System Clipboard\n"
     ]
    }
   ],
   "source": [
    "content = \"$ limits(integral)_a^b f(x) dif x $\" \n",
    "c = typst_express(content, name=\"Integral Example\")\n",
    "shift_scene_content(c) "
   ]
  },
  {
   "cell_type": "code",
   "execution_count": 8,
   "metadata": {},
   "outputs": [],
   "source": [
    "c = typst_express(\"\"\"\n",
    "#let korange() = text(fill: orange)[$k$]\n",
    "#let nblue() = text(fill: blue)[$n$]\n",
    "$ sum_(#korange() = 1)^#nblue() #korange() = (nblue()(nblue()+1)) / 2 $  \n",
    "\"\"\")\n",
    "shift_scene_content(c) "
   ]
  },
  {
   "cell_type": "code",
   "execution_count": 9,
   "metadata": {},
   "outputs": [],
   "source": [
    "from typst_importer.typst_to_svg import typst_express\n",
    "from typst_importer.curve_utils import shift_scene_content\n",
    "\n",
    "c = typst_express(\"\"\"\n",
    "#set page(width: 900pt, height: auto, margin: 0cm, fill: none)\n",
    "\n",
    "#import \"@preview/codelst:2.0.1\": sourcecode\n",
    "#import \"@preview/tablex:0.0.8\": tablex\n",
    "#let sourcecode = sourcecode.with(frame: (code) => block(\n",
    "  radius: 5pt,\n",
    "  stroke: 2pt + luma(0),\n",
    "  inset: 30pt,\n",
    "  text(size: 30pt, code)\n",
    "))\n",
    "\n",
    "#sourcecode[```python\n",
    "for i in range(0,10):\n",
    "  print(i)\n",
    "```]\n",
    "\"\"\")\n",
    "shift_scene_content(c, margin=1.2) "
   ]
  },
  {
   "cell_type": "code",
   "execution_count": 10,
   "metadata": {},
   "outputs": [],
   "source": [
    "content = \"\"\"\n",
    "#set page(width: 900pt, height: auto, margin: 0cm, fill: none)\n",
    "\n",
    "#import \"@preview/codelst:2.0.1\": sourcecode\n",
    "#import \"@preview/tablex:0.0.8\": tablex\n",
    "\n",
    "#let sourcecode = sourcecode.with(frame: (code) => block(\n",
    "  radius: 5pt,\n",
    "  stroke: 5pt + luma(0),\n",
    "  inset: 30pt,\n",
    "  text(size: 30pt, code)\n",
    "))\n",
    "\n",
    "#sourcecode[```python\n",
    "\n",
    "class HelloWorld:\n",
    "    def __init__(self):\n",
    "        self.message = \"Hello, world!\"\n",
    "\n",
    "    def greet(self):\n",
    "        print(self.message)\n",
    "\n",
    "if __name__ == \"__main__\":\n",
    "    hello = HelloWorld()\n",
    "    hello.greet()\n",
    "```]\n",
    "\"\"\"\n",
    "c = typst_express(content)\n",
    "shift_scene_content(c) "
   ]
  },
  {
   "cell_type": "code",
   "execution_count": 11,
   "metadata": {},
   "outputs": [],
   "source": [
    "header = \"\"\"\n",
    "#set page(width: auto, height: auto, margin: 0cm, fill: none)\n",
    "#set text(size: 50pt)\n",
    "\"\"\"\n",
    "body = \"$ a = b/c $\"\n",
    "c = typst_express(header+body)\n",
    "shift_scene_content(c) "
   ]
  },
  {
   "cell_type": "code",
   "execution_count": 12,
   "metadata": {},
   "outputs": [],
   "source": [
    "header = \"\"\"\n",
    "#set page(width: auto, height: auto, margin: 0cm, fill: none)\n",
    "#set text(size: 50pt)\n",
    "\"\"\"\n",
    "body = \"$ limits(integral)_a^b f(x) dif x $\"\n",
    "c = typst_express(header+body, scale_factor=200, origin_to_char=True)\n",
    "shift_scene_content(c) "
   ]
  },
  {
   "cell_type": "code",
   "execution_count": 13,
   "metadata": {},
   "outputs": [],
   "source": [
    "content = \"\"\"\n",
    "#set math.lr(size: 80%)\n",
    "$ integral.triple _V (nabla dot accent(F, arrow)) dif V = integral.surf_(partial V)  (accent(F, arrow) dot accent(n, arrow)) dif A $\n",
    "\"\"\"\n",
    "c = typst_express(content)\n",
    "shift_scene_content(c) "
   ]
  },
  {
   "cell_type": "code",
   "execution_count": null,
   "metadata": {},
   "outputs": [],
   "source": []
  },
  {
   "cell_type": "code",
   "execution_count": null,
   "metadata": {},
   "outputs": [],
   "source": [
    "n"
   ]
  }
 ],
 "metadata": {
  "kernelspec": {
   "display_name": "Python 3 (ipykernel)",
   "language": "python",
   "name": "python3"
  }
 },
 "nbformat": 4,
 "nbformat_minor": 2
}
