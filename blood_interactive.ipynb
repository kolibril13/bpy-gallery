{
 "cells": [
  {
   "cell_type": "code",
   "execution_count": 1,
   "metadata": {},
   "outputs": [
    {
     "name": "stdout",
     "output_type": "stream",
     "text": [
      "Device with name Apple M1 supports metal minimum requirements\n",
      "Read blend: \"/Users/jan-hendrik/projects/ipyblender-experimental/blood_vessel.blend\"\n",
      "15:25:44 | ERROR: Draco mesh compression is not available because library could not be found at /Users/jan-hendrik/projects/ipyblender-experimental/Resources/3.6/python/lib/python3.10/site-packages/libextern_draco.dylib\n",
      "15:25:44 | INFO: Starting glTF 2.0 export\n",
      "15:25:44 | INFO: Extracting primitive: BezierCurve\n",
      "15:25:45 | INFO: Primitives created: 6\n",
      "15:25:45 | INFO: Finished glTF 2.0 export in 0.29504895210266113 s\n",
      "\n",
      "Model exported to _MY_MODEL.gltf\n"
     ]
    },
    {
     "data": {
      "application/vnd.jupyter.widget-view+json": {
       "model_id": "16686b9e7f7d4cdd959d8dc701b25ada",
       "version_major": 2,
       "version_minor": 0
      },
      "text/plain": [
       "Viewer(gltf_data='{\\n\\t\"asset\":{\\n\\t\\t\"generator\":\"Khronos glTF Blender I/O v3.6.27\",\\n\\t\\t\"version\":\"2.0\"\\n\\t…"
      ]
     },
     "execution_count": 1,
     "metadata": {},
     "output_type": "execute_result"
    }
   ],
   "source": [
    "import bpy\n",
    "from pathlib import Path\n",
    "\n",
    "gltf_path = Path() / \"_MY_MODEL.gltf\"\n",
    "\n",
    "bpy.ops.preferences.addon_enable(module=\"io_scene_gltf2\")\n",
    "\n",
    "bpy.ops.wm.open_mainfile(filepath=\"blood_vessel.blend\")\n",
    "\n",
    "artery_object = bpy.data.objects.get('Artery')\n",
    "\n",
    "bpy.ops.object.select_all(action='DESELECT')\n",
    "artery_object.select_set(True)\n",
    "bpy.context.view_layer.objects.active = artery_object\n",
    "bpy.ops.object.convert(target='MESH')\n",
    "bpy.ops.object.modifier_apply(modifier=\"Artery\")\n",
    "\n",
    "bpy.ops.export_scene.gltf(filepath=str(gltf_path),export_format=\"GLTF_EMBEDDED\", use_selection=True)\n",
    "print(f\"Model exported to {gltf_path}\")\n",
    "\n",
    "data = gltf_path.read_text()\n",
    "\n",
    "from anywidget_3dviewer import Viewer\n",
    "\n",
    "b = Viewer(gltf_data=data)\n",
    "b"
   ]
  },
  {
   "cell_type": "code",
   "execution_count": null,
   "metadata": {},
   "outputs": [],
   "source": []
  }
 ],
 "metadata": {
  "kernelspec": {
   "display_name": ".venv",
   "language": "python",
   "name": "python3"
  },
  "language_info": {
   "codemirror_mode": {
    "name": "ipython",
    "version": 3
   },
   "file_extension": ".py",
   "mimetype": "text/x-python",
   "name": "python",
   "nbconvert_exporter": "python",
   "pygments_lexer": "ipython3",
   "version": "3.10.13"
  }
 },
 "nbformat": 4,
 "nbformat_minor": 2
}
