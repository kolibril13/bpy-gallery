{
 "cells": [
  {
   "cell_type": "code",
   "execution_count": null,
   "metadata": {},
   "outputs": [],
   "source": [
    "import sys\n",
    "import os\n",
    "\n",
    "sys.stdout = open(os.devnull, 'w')\n",
    "sys.stderr = open(os.devnull, 'w')"
   ]
  },
  {
   "cell_type": "code",
   "execution_count": null,
   "metadata": {},
   "outputs": [],
   "source": [
    "from IPython.display import Video, display\n",
    "\n",
    "import bpy\n",
    "\n",
    "# Remove all default cubes\n",
    "for obj in bpy.data.objects:\n",
    "    if obj.type == 'MESH' and obj.name.startswith(\"Cube\"):\n",
    "        bpy.data.objects.remove(obj, do_unlink=True)\n",
    "\n",
    "# Add a Sphere\n",
    "bpy.ops.mesh.primitive_uv_sphere_add(location=(0,0,0))\n",
    "\n",
    "# Reference the Sphere\n",
    "sphere = bpy.context.active_object\n",
    "\n",
    "# Set the scene's frames per second to 60\n",
    "bpy.context.scene.render.fps = 10\n",
    "\n",
    "# Set initial position and keyframe at frame 1\n",
    "sphere.location = (0, 0, 0)\n",
    "sphere.keyframe_insert(data_path=\"location\", frame=1)\n",
    "\n",
    "# Set end position and keyframe at frame 60 (for a 1-second animation at 60 fps)\n",
    "sphere.location = (2, 0, 0)\n",
    "sphere.keyframe_insert(data_path=\"location\", frame=10)\n",
    "\n",
    "# Set the end frame for the animation\n",
    "bpy.context.scene.frame_end = 10\n",
    "\n",
    "# Configure render settings for MP4 output\n",
    "path = \"animation.mp4\"\n",
    "bpy.context.scene.render.image_settings.file_format = 'FFMPEG'\n",
    "bpy.context.scene.render.ffmpeg.format = 'MPEG4'\n",
    "bpy.context.scene.render.ffmpeg.codec = 'H264'\n",
    "bpy.context.scene.render.ffmpeg.audio_codec = 'NONE'\n",
    "bpy.context.scene.render.filepath = path\n",
    "\n",
    "# Render the animation\n",
    "bpy.ops.render.render(animation=True)\n",
    "\n",
    "display(Video(filename=path))"
   ]
  }
 ],
 "metadata": {
  "kernelspec": {
   "display_name": ".venv",
   "language": "python",
   "name": "python3"
  },
  "language_info": {
   "codemirror_mode": {
    "name": "ipython",
    "version": 3
   },
   "file_extension": ".py",
   "mimetype": "text/x-python",
   "name": "python",
   "nbconvert_exporter": "python",
   "pygments_lexer": "ipython3",
   "version": "3.10.13"
  }
 },
 "nbformat": 4,
 "nbformat_minor": 2
}
