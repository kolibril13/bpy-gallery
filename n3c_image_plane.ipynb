{
 "cells": [
  {
   "cell_type": "code",
   "execution_count": 1,
   "metadata": {},
   "outputs": [
    {
     "data": {
      "text/plain": [
       "{'FINISHED'}"
      ]
     },
     "execution_count": 1,
     "metadata": {},
     "output_type": "execute_result"
    },
    {
     "name": "stdout",
     "output_type": "stream",
     "text": [
      "Info: Deleted 1 object(s)\n"
     ]
    }
   ],
   "source": [
    "import bpy\n",
    "\n",
    "# Create a new plane\n",
    "bpy.ops.mesh.primitive_plane_add(size=2, enter_editmode=False, align='WORLD', location=(0, 0, 0))\n",
    "\n",
    "# Optionally, you can modify the plane's size, location, and rotation if needed:\n",
    "# bpy.ops.transform.resize(value=(2, 2, 1))\n",
    "# bpy.context.object.rotation_euler = (0, 0, 0)"
   ]
  },
  {
   "cell_type": "code",
   "execution_count": 2,
   "metadata": {},
   "outputs": [
    {
     "name": "stdout",
     "output_type": "stream",
     "text": [
      "\u001b[0;31mSignature:\u001b[0m   \u001b[0mbpy\u001b[0m\u001b[0;34m.\u001b[0m\u001b[0mops\u001b[0m\u001b[0;34m.\u001b[0m\u001b[0mimport_image\u001b[0m\u001b[0;34m.\u001b[0m\u001b[0mto_plane\u001b[0m\u001b[0;34m(\u001b[0m\u001b[0;34m*\u001b[0m\u001b[0margs\u001b[0m\u001b[0;34m,\u001b[0m \u001b[0;34m**\u001b[0m\u001b[0mkw\u001b[0m\u001b[0;34m)\u001b[0m\u001b[0;34m\u001b[0m\u001b[0;34m\u001b[0m\u001b[0m\n",
      "\u001b[0;31mType:\u001b[0m        _BPyOpsSubModOp\n",
      "\u001b[0;31mString form:\u001b[0m <function bpy.ops.import_image.to_plane at 0x3815f6e60'>\n",
      "\u001b[0;31mFile:\u001b[0m        /Applications/Blender.app/Contents/Resources/4.2/scripts/modules/bpy/ops.py\n",
      "\u001b[0;31mDocstring:\u001b[0m   <no docstring>"
     ]
    }
   ],
   "source": [
    "?bpy.ops.import_image.to_plane"
   ]
  },
  {
   "cell_type": "code",
   "execution_count": 5,
   "metadata": {},
   "outputs": [
    {
     "name": "stdout",
     "output_type": "stream",
     "text": [
      "Image texture successfully applied to the plane.\n"
     ]
    },
    {
     "name": "stdout",
     "output_type": "stream",
     "text": [
      "Info: Deleted 1 object(s)\n"
     ]
    }
   ],
   "source": [
    "import bpy\n",
    "\n",
    "# Step 2: Create a new plane\n",
    "bpy.ops.mesh.primitive_plane_add(size=2, enter_editmode=False, align='WORLD', location=(0, 0, 0))\n",
    "plane = bpy.context.object\n",
    "\n",
    "# Step 3: Create a new material with the image texture\n",
    "material = bpy.data.materials.new(name=\"ImageMaterial\")\n",
    "material.use_nodes = True\n",
    "bsdf = material.node_tree.nodes[\"Principled BSDF\"]\n",
    "\n",
    "# Add Image Texture node\n",
    "tex_image = material.node_tree.nodes.new('ShaderNodeTexImage')\n",
    "tex_image.image = bpy.data.images.load(\"test.png\")\n",
    "\n",
    "# Connect the image texture to the BSDF node\n",
    "material.node_tree.links.new(bsdf.inputs['Base Color'], tex_image.outputs['Color'])\n",
    "\n",
    "# Step 4: Assign the material to the plane\n",
    "if plane.data.materials:\n",
    "    plane.data.materials[0] = material\n",
    "else:\n",
    "    plane.data.materials.append(material)\n",
    "\n",
    "print(\"Image texture successfully applied to the plane.\")"
   ]
  },
  {
   "cell_type": "code",
   "execution_count": null,
   "metadata": {},
   "outputs": [],
   "source": []
  }
 ],
 "metadata": {
  "kernelspec": {
   "display_name": ".venv",
   "language": "python",
   "name": "python3"
  },
  "language_info": {
   "codemirror_mode": {
    "name": "ipython",
    "version": 3
   },
   "file_extension": ".py",
   "mimetype": "text/x-python",
   "name": "python",
   "nbconvert_exporter": "python",
   "pygments_lexer": "ipython3",
   "version": "3.11.10"
  }
 },
 "nbformat": 4,
 "nbformat_minor": 2
}
