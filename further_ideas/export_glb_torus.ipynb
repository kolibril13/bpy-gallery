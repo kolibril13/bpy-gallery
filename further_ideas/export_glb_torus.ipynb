{
 "cells": [
  {
   "cell_type": "code",
   "execution_count": 1,
   "metadata": {},
   "outputs": [
    {
     "name": "stdout",
     "output_type": "stream",
     "text": [
      "Device with name Apple M1 supports metal minimum requirements\n",
      "16:20:21 | ERROR: Draco mesh compression is not available because library could not be found at /Users/jan-hendrik/projects/ipyblender-experimental/further_ideas/Resources/3.6/python/lib/python3.10/site-packages/libextern_draco.dylib\n",
      "16:20:21 | INFO: Starting glTF 2.0 export\n",
      "16:20:21 | INFO: Extracting primitive: Torus\n",
      "16:20:21 | INFO: Primitives created: 1\n",
      "16:20:21 | INFO: Finished glTF 2.0 export in 0.10684323310852051 s\n",
      "\n"
     ]
    },
    {
     "data": {
      "text/plain": [
       "{'FINISHED'}"
      ]
     },
     "execution_count": 1,
     "metadata": {},
     "output_type": "execute_result"
    }
   ],
   "source": [
    "import bpy\n",
    "from IPython.display import Image, display\n",
    "\n",
    "# Ensure the glTF exporter is activated\n",
    "bpy.ops.preferences.addon_enable(module='io_scene_gltf2')\n",
    "\n",
    "# Delete all mesh objects from the scene\n",
    "bpy.ops.object.select_all(action=\"DESELECT\")\n",
    "bpy.ops.object.select_by_type(type=\"MESH\")\n",
    "bpy.ops.object.delete()\n",
    "\n",
    "# Add a torus\n",
    "bpy.ops.mesh.primitive_torus_add(\n",
    "    major_radius=1.5,\n",
    "    minor_radius=0.75,\n",
    "    major_segments=48 * 4,\n",
    "    minor_segments=12 * 4,\n",
    "    align=\"WORLD\",\n",
    "    location=(0, 1, 1),\n",
    ")\n",
    "\n",
    "# Assigning the torus to a variable\n",
    "torus = bpy.context.active_object\n",
    "\n",
    "# Create a new material and assign it to the torus\n",
    "material = bpy.data.materials.new(name=\"OrangeMaterial\")\n",
    "torus.data.materials.append(material)\n",
    "material.use_nodes = True\n",
    "nodes = material.node_tree.nodes\n",
    "\n",
    "# Clear default nodes\n",
    "for node in nodes:\n",
    "    nodes.remove(node)\n",
    "\n",
    "# Add Shader nodes\n",
    "bsdf = nodes.new(type=\"ShaderNodeBsdfPrincipled\")\n",
    "bsdf.location = (400, 0)\n",
    "bsdf.inputs[\"Base Color\"].default_value = (1, 0.5, 0, 1)  # Orange color\n",
    "\n",
    "output = nodes.new(type=\"ShaderNodeOutputMaterial\")\n",
    "output.location = (600, 0)\n",
    "\n",
    "# Connect the nodes\n",
    "material.node_tree.links.new(bsdf.outputs[\"BSDF\"], output.inputs[\"Surface\"])\n",
    "\n",
    "# Light\n",
    "light = bpy.data.objects[\"Light\"]\n",
    "light.location = (0, 0, 2)  # Position the light\n",
    "\n",
    "# Camera\n",
    "camera = bpy.data.objects[\"Camera\"]\n",
    "camera.location = (5, -3, 4)\n",
    "camera.data.dof.use_dof = True\n",
    "camera.data.dof.focus_distance = 5\n",
    "camera.data.dof.aperture_fstop = 4\n",
    "\n",
    "## Render\n",
    "# path = \"test.png\"\n",
    "# bpy.context.scene.render.resolution_x = 300\n",
    "# bpy.context.scene.render.resolution_y = 100\n",
    "# bpy.context.scene.render.image_settings.file_format = \"PNG\"\n",
    "# bpy.context.scene.render.filepath = path\n",
    "# bpy.ops.render.render(write_still=True)\n",
    "# bpy.data.images[\"Render Result\"].save_render(filepath=bpy.context.scene.render.filepath)\n",
    "\n",
    "# display(Image(path))\n",
    "\n",
    "# Exporting the model to .glb format for Three.js\n",
    "# Specify the path where you want to save the exported model\n",
    "gltf_path = \"./model_torus.gltf\"\n",
    "\n",
    "# Select only the torus object\n",
    "bpy.ops.object.select_all(action='DESELECT')\n",
    "torus.select_set(True)\n",
    "\n",
    "# Export the selected torus object to a .glb file\n",
    "bpy.ops.export_scene.gltf(filepath=gltf_path, export_format='GLTF_EMBEDDED', use_selection=True)\n"
   ]
  },
  {
   "cell_type": "code",
   "execution_count": null,
   "metadata": {},
   "outputs": [],
   "source": []
  }
 ],
 "metadata": {
  "kernelspec": {
   "display_name": ".venv",
   "language": "python",
   "name": "python3"
  },
  "language_info": {
   "codemirror_mode": {
    "name": "ipython",
    "version": 3
   },
   "file_extension": ".py",
   "mimetype": "text/x-python",
   "name": "python",
   "nbconvert_exporter": "python",
   "pygments_lexer": "ipython3",
   "version": "3.10.13"
  },
  "orig_nbformat": 4
 },
 "nbformat": 4,
 "nbformat_minor": 2
}
