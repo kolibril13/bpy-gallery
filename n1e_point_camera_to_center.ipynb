{
 "cells": [
  {
   "cell_type": "code",
   "execution_count": null,
   "metadata": {
    "vscode": {
     "languageId": "plaintext"
    }
   },
   "outputs": [],
   "source": [
    "import mathutils\n",
    "target_location = mathutils.Vector((0, 0, 0))\n",
    "direction = target_location - camera_object.location\n",
    "direction.to_track_quat('-Z', 'Y').to_euler()"
   ]
  }
 ],
 "metadata": {
  "language_info": {
   "name": "python"
  }
 },
 "nbformat": 4,
 "nbformat_minor": 2
}
