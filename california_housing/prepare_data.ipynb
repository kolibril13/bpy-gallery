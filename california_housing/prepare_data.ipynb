{
 "cells": [
  {
   "cell_type": "code",
   "execution_count": 1,
   "metadata": {},
   "outputs": [
    {
     "data": {
      "application/vnd.jupyter.widget-view+json": {
       "model_id": "442d948d1c724316a0d3398fb9aa6bf5",
       "version_major": 2,
       "version_minor": 1
      },
      "text/plain": [
       "Widget(sql='SELECT * FROM \"df\"', temp_indexes=True)"
      ]
     },
     "execution_count": 1,
     "metadata": {},
     "output_type": "execute_result"
    }
   ],
   "source": [
    "import ipywidgets as widgets\n",
    "import polars as pl\n",
    "import quak\n",
    "import string\n",
    "\n",
    "df = pl.read_csv(\"https://gist.githubusercontent.com/kolibril13/4ac77cfe1ee68cae7de8d477b9c251aa/raw/66517ae387dc7251f8157e57a99e18d51095d8eb/housing.csv\")\n",
    "df = df.unique(subset=[\"latitude\", \"longitude\"], keep=\"first\")\n",
    "\n",
    "# Step 2: Generate a 3-letter sequential ID\n",
    "def generate_sequential_id(index):\n",
    "    chars = string.ascii_lowercase\n",
    "    first_char = chars[index // (26 * 26) % 26]\n",
    "    second_char = chars[index // 26 % 26]\n",
    "    third_char = chars[index % 26]\n",
    "    return f\"#{first_char}{second_char}{third_char}\"\n",
    "\n",
    "ids = [generate_sequential_id(i) for i in range(len(df))]\n",
    "df.insert_column(0, pl.Series(\"short_id\", ids))\n",
    "\n",
    "# Step 3: Normalize the coordinates and create the reference DataFrame\n",
    "reference_frame = df.with_columns([\n",
    "    ((pl.col(\"longitude\") - pl.col(\"longitude\").min()) / (pl.col(\"longitude\").max() - pl.col(\"longitude\").min()) * 10).alias(\"longitude_normalized\"),\n",
    "    ((pl.col(\"latitude\") - pl.col(\"latitude\").min()) / (pl.col(\"latitude\").max() - pl.col(\"latitude\").min()) * 10).alias(\"latitude_normalized\")\n",
    "]).select([\"short_id\", \"longitude_normalized\", \"latitude_normalized\"])\n",
    "\n",
    "# Display the DataFrame with the new unique_id column using the quak widget\n",
    "widget = quak.Widget(df)\n",
    "widget"
   ]
  },
  {
   "cell_type": "code",
   "execution_count": 4,
   "metadata": {},
   "outputs": [],
   "source": [
    "df.write_csv(\"df.csv\")\n",
    "reference_frame.write_csv(\"reference_frame.csv\")\n"
   ]
  },
  {
   "cell_type": "code",
   "execution_count": null,
   "metadata": {},
   "outputs": [],
   "source": []
  }
 ],
 "metadata": {
  "kernelspec": {
   "display_name": ".venv",
   "language": "python",
   "name": "python3"
  },
  "language_info": {
   "codemirror_mode": {
    "name": "ipython",
    "version": 3
   },
   "file_extension": ".py",
   "mimetype": "text/x-python",
   "name": "python",
   "nbconvert_exporter": "python",
   "pygments_lexer": "ipython3",
   "version": "3.11.9"
  }
 },
 "nbformat": 4,
 "nbformat_minor": 2
}
