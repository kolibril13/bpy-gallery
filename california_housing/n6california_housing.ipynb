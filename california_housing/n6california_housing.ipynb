{
 "cells": [
  {
   "cell_type": "code",
   "execution_count": 1,
   "metadata": {},
   "outputs": [
    {
     "data": {
      "application/vnd.jupyter.widget-view+json": {
       "model_id": "77902b731e804d908af1cbb634e3334f",
       "version_major": 2,
       "version_minor": 1
      },
      "text/plain": [
       "Widget(sql='SELECT * FROM \"df\"')"
      ]
     },
     "execution_count": 1,
     "metadata": {},
     "output_type": "execute_result"
    }
   ],
   "source": [
    "import polars as pl\n",
    "import quak\n",
    "import numpy as np\n",
    "import bpy\n",
    "import ipywidgets as widgets\n",
    "from IPython.display import display\n",
    "\n",
    "df = pl.read_csv(\"a_df.csv\")\n",
    "reference_frame = pl.read_csv(\"b_reference_frame.csv\")\n",
    "\n",
    "widget = quak.Widget(df)\n",
    "widget"
   ]
  },
  {
   "cell_type": "code",
   "execution_count": 2,
   "metadata": {},
   "outputs": [
    {
     "data": {
      "text/plain": [
       "{'FINISHED'}"
      ]
     },
     "execution_count": 2,
     "metadata": {},
     "output_type": "execute_result"
    }
   ],
   "source": [
    "blend_file_path = \"housing_data_igor.blend\"\n",
    "bpy.ops.wm.open_mainfile(filepath=blend_file_path)"
   ]
  },
  {
   "cell_type": "code",
   "execution_count": 3,
   "metadata": {},
   "outputs": [],
   "source": [
    "vertices = [(row[\"longitude_normalized\"], row[\"latitude_normalized\"], 0) for row in reference_frame.iter_rows(named=True)]\n",
    "\n",
    "mesh = bpy.data.meshes.new(\"NormalizedMesh\")\n",
    "obj = bpy.data.objects.new(\"CaliforninaNormalizedObject\", mesh)\n",
    "bpy.context.collection.objects.link(obj)\n",
    "\n",
    "mesh.from_pydata(vertices, [], [])\n",
    "mesh.update()\n",
    "obj.modifiers.new(name=\"GeometryNodes\", type='NODES').node_group = bpy.data.node_groups[\"geo_house\"]\n",
    "bpy.context.view_layer.objects.active = obj\n",
    "obj.select_set(True)\n",
    "reference_frame.head()\n",
    "\n",
    "output = widgets.Output()\n",
    "\n",
    "def on_data_change(change=None):\n",
    "    output.clear_output(wait=True)\n",
    "    with output:\n",
    "        widget_df = widget.data().pl()\n",
    "\n",
    "        plotting_frame = reference_frame.with_columns(\n",
    "            pl.lit(0).alias(\"custom_plotting\")\n",
    "        ).join(\n",
    "            widget_df.select([\"short_id\", \"median_house_value\"]), \n",
    "            on=\"short_id\", \n",
    "            how=\"left\"\n",
    "        ).with_columns(\n",
    "            pl.when(pl.col(\"median_house_value\").is_not_null())\n",
    "            .then(pl.col(\"median_house_value\"))\n",
    "            .otherwise(pl.col(\"custom_plotting\"))\n",
    "            .alias(\"custom_plotting\")\n",
    "        ).select([\"short_id\", \"custom_plotting\"])\n",
    "\n",
    "        custom_plotting_list = plotting_frame[\"custom_plotting\"].to_list()\n",
    "        normalized_values = list(np.interp(custom_plotting_list, \n",
    "                                           (min(custom_plotting_list), max(custom_plotting_list)), \n",
    "                                           (0.1, 3)))\n",
    "\n",
    "        obj = bpy.data.objects['CaliforninaNormalizedObject']\n",
    "        attr_name = 'median_house_value'\n",
    "        attr = obj.data.attributes.get(attr_name) or obj.data.attributes.new(\n",
    "            name=attr_name,\n",
    "            type='FLOAT',\n",
    "            domain='POINT'\n",
    "        )\n",
    "        attr.data.foreach_set('value', normalized_values)\n",
    "        obj.data.update()\n",
    "\n",
    "widget.observe(on_data_change, names=[\"sql\"])\n",
    "on_data_change(change= None)"
   ]
  },
  {
   "cell_type": "code",
   "execution_count": null,
   "metadata": {},
   "outputs": [],
   "source": []
  },
  {
   "cell_type": "code",
   "execution_count": null,
   "metadata": {},
   "outputs": [],
   "source": []
  }
 ],
 "metadata": {
  "kernelspec": {
   "display_name": "blender",
   "language": "python",
   "name": "blender"
  },
  "language_info": {
   "codemirror_mode": {
    "name": "ipython",
    "version": 3
   },
   "file_extension": ".py",
   "mimetype": "text/x-python",
   "name": "python",
   "nbconvert_exporter": "python",
   "pygments_lexer": "ipython3",
   "version": "3.11.9"
  }
 },
 "nbformat": 4,
 "nbformat_minor": 4
}
