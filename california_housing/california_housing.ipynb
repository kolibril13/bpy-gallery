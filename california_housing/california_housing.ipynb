{
 "cells": [
  {
   "cell_type": "code",
   "execution_count": 1,
   "metadata": {},
   "outputs": [
    {
     "data": {
      "application/vnd.jupyter.widget-view+json": {
       "model_id": "173fd73e31cd4311ba9d22aa6ac4b551",
       "version_major": 2,
       "version_minor": 1
      },
      "text/plain": [
       "Widget(sql='SELECT * FROM \"df\"', temp_indexes=True)"
      ]
     },
     "execution_count": 1,
     "metadata": {},
     "output_type": "execute_result"
    }
   ],
   "source": [
    "import polars as pl\n",
    "import quak\n",
    "\n",
    "df = pl.read_csv(\"a_df.csv\")\n",
    "reference_frame = pl.read_csv(\"b_reference_frame.csv\")\n",
    "\n",
    "widget = quak.Widget(df)\n",
    "widget"
   ]
  },
  {
   "cell_type": "code",
   "execution_count": 2,
   "metadata": {},
   "outputs": [
    {
     "name": "stdout",
     "output_type": "stream",
     "text": [
      "No MNSession found to load for this .blend file.\n"
     ]
    },
    {
     "data": {
      "text/plain": [
       "{'FINISHED'}"
      ]
     },
     "execution_count": 2,
     "metadata": {},
     "output_type": "execute_result"
    },
    {
     "name": "stderr",
     "output_type": "stream",
     "text": [
      "2024-08-30 20:00:59.502 Blender[10274:268108] +[IMKClient subclass]: chose IMKClient_Legacy\n",
      "2024-08-30 20:00:59.502 Blender[10274:268108] +[IMKInputSession subclass]: chose IMKInputSession_Legacy\n"
     ]
    },
    {
     "name": "stdout",
     "output_type": "stream",
     "text": [
      "Read blend: \"/Users/jan-hendrik/projects/ipyblender-experimental/california_housing/housing_data.blend\"\n",
      "Info: Saved \"housing_data.blend\"\n"
     ]
    }
   ],
   "source": [
    "import bpy\n",
    "\n",
    "blend_file_path = \"housing_data.blend\"\n",
    "bpy.ops.wm.open_mainfile(filepath=blend_file_path)"
   ]
  },
  {
   "cell_type": "code",
   "execution_count": 3,
   "metadata": {},
   "outputs": [
    {
     "data": {
      "text/html": [
       "<div><style>\n",
       ".dataframe > thead > tr,\n",
       ".dataframe > tbody > tr {\n",
       "  text-align: right;\n",
       "  white-space: pre-wrap;\n",
       "}\n",
       "</style>\n",
       "<small>shape: (5, 3)</small><table border=\"1\" class=\"dataframe\"><thead><tr><th>short_id</th><th>longitude_normalized</th><th>latitude_normalized</th></tr><tr><td>str</td><td>f64</td><td>f64</td></tr></thead><tbody><tr><td>&quot;#aaa&quot;</td><td>3.416335</td><td>3.03932</td></tr><tr><td>&quot;#aab&quot;</td><td>1.922311</td><td>5.377258</td></tr><tr><td>&quot;#aac&quot;</td><td>4.561753</td><td>2.019129</td></tr><tr><td>&quot;#aad&quot;</td><td>2.440239</td><td>5.217853</td></tr><tr><td>&quot;#aae&quot;</td><td>6.513944</td><td>1.370882</td></tr></tbody></table></div>"
      ],
      "text/plain": [
       "shape: (5, 3)\n",
       "┌──────────┬──────────────────────┬─────────────────────┐\n",
       "│ short_id ┆ longitude_normalized ┆ latitude_normalized │\n",
       "│ ---      ┆ ---                  ┆ ---                 │\n",
       "│ str      ┆ f64                  ┆ f64                 │\n",
       "╞══════════╪══════════════════════╪═════════════════════╡\n",
       "│ #aaa     ┆ 3.416335             ┆ 3.03932             │\n",
       "│ #aab     ┆ 1.922311             ┆ 5.377258            │\n",
       "│ #aac     ┆ 4.561753             ┆ 2.019129            │\n",
       "│ #aad     ┆ 2.440239             ┆ 5.217853            │\n",
       "│ #aae     ┆ 6.513944             ┆ 1.370882            │\n",
       "└──────────┴──────────────────────┴─────────────────────┘"
      ]
     },
     "execution_count": 3,
     "metadata": {},
     "output_type": "execute_result"
    }
   ],
   "source": [
    "# Load to Blender\n",
    "import bpy\n",
    "\n",
    "vertices = [(row[\"longitude_normalized\"], row[\"latitude_normalized\"], 0) for row in reference_frame.iter_rows(named=True)]\n",
    "\n",
    "# Create a new mesh and object\n",
    "mesh = bpy.data.meshes.new(name=\"NormalizedMesh\")\n",
    "obj = bpy.data.objects.new(name=\"CaliforninaNormalizedObject\", object_data=mesh)\n",
    "\n",
    "# Link the object to the current collection\n",
    "bpy.context.collection.objects.link(obj)\n",
    "\n",
    "# Create the mesh from the vertices, edges, and faces\n",
    "mesh.from_pydata(vertices, [], [])\n",
    "\n",
    "# Update mesh with new data\n",
    "mesh.update()\n",
    "\n",
    "# Add the Geometry Nodes modifier and assign the node group\n",
    "modifier = obj.modifiers.new(name=\"GeometryNodes\", type='NODES')\n",
    "modifier.node_group = bpy.data.node_groups[\"geo_house\"]\n",
    "\n",
    "# Optionally, set the object as active and select it\n",
    "bpy.context.view_layer.objects.active = obj\n",
    "obj.select_set(True)\n",
    "\n",
    "reference_frame.head()"
   ]
  },
  {
   "cell_type": "code",
   "execution_count": 7,
   "metadata": {},
   "outputs": [
    {
     "data": {
      "application/vnd.jupyter.widget-view+json": {
       "model_id": "7095687c3f1a451cbe3487f5eb11df08",
       "version_major": 2,
       "version_minor": 0
      },
      "text/plain": [
       "Output()"
      ]
     },
     "metadata": {},
     "output_type": "display_data"
    }
   ],
   "source": [
    "import ipywidgets as widgets\n",
    "from IPython.display import display\n",
    "import numpy as np\n",
    "\n",
    "output = widgets.Output()\n",
    "\n",
    "def on_data_change(change):\n",
    "    output.clear_output(wait=True)\n",
    "    with output:\n",
    "\n",
    "\n",
    "        widget_df = widget.data().pl()\n",
    "\n",
    "        # Step 1: Create plotting_frame with the same short_id as reference_frame and initialize custom_plotting to zero\n",
    "        plotting_frame = reference_frame.with_columns([pl.lit(0).alias(\"custom_plotting\")])\n",
    "\n",
    "        # Step 2: Update custom_plotting with the value of median_house_value where short_id matches\n",
    "        # First, we need to join the widget_df with plotting_frame based on short_id\n",
    "        plotting_frame = plotting_frame.join(widget_df.select([\"short_id\", \"median_house_value\"]), on=\"short_id\", how=\"left\")\n",
    "\n",
    "        # Step 3: Replace the zero values in custom_plotting with median_house_value where there is a match\n",
    "        plotting_frame = plotting_frame.with_columns(\n",
    "            pl.when(pl.col(\"median_house_value\").is_not_null())\n",
    "            .then(pl.col(\"median_house_value\"))\n",
    "            .otherwise(pl.col(\"custom_plotting\"))\n",
    "            .alias(\"custom_plotting\")\n",
    "        ).select([\"short_id\", \"custom_plotting\"])\n",
    "\n",
    "\n",
    "        custom_plotting_list = plotting_frame[\"custom_plotting\"].to_list()\n",
    "        normalized_custom_plotting_list = list(np.interp(custom_plotting_list, \n",
    "                                                        (min(custom_plotting_list), max(custom_plotting_list)), \n",
    "                                                        (0.1, 3)))\n",
    "\n",
    "        obj = bpy.data.objects['CaliforninaNormalizedObject']\n",
    "        attr_name = 'median_house_value'\n",
    "\n",
    "        # Create or get the attribute\n",
    "        attr = obj.data.attributes.get(attr_name)\n",
    "        if attr is None:\n",
    "            attr = obj.data.attributes.new(\n",
    "                name=attr_name,\n",
    "                type='FLOAT',\n",
    "                domain='POINT'\n",
    "            )\n",
    "\n",
    "\n",
    "        attr.data.foreach_set('value', normalized_custom_plotting_list)\n",
    "        obj.data.update()\n",
    "\n",
    "        print(len(normalized_custom_plotting_list))\n",
    "        normalized_custom_plotting_list[:3]\n",
    "        \n",
    "        print(widget.data().df())\n",
    "\n",
    "widget.observe(on_data_change, names= [\"sql\"])\n",
    "display(output)"
   ]
  },
  {
   "cell_type": "code",
   "execution_count": null,
   "metadata": {},
   "outputs": [],
   "source": []
  }
 ],
 "metadata": {
  "kernelspec": {
   "display_name": "blender",
   "language": "python",
   "name": "blender"
  },
  "language_info": {
   "codemirror_mode": {
    "name": "ipython",
    "version": 3
   },
   "file_extension": ".py",
   "mimetype": "text/x-python",
   "name": "python",
   "nbconvert_exporter": "python",
   "pygments_lexer": "ipython3",
   "version": "3.11.7"
  }
 },
 "nbformat": 4,
 "nbformat_minor": 2
}
