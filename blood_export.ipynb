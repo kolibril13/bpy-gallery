{
 "cells": [
  {
   "cell_type": "markdown",
   "metadata": {},
   "source": []
  },
  {
   "cell_type": "code",
   "execution_count": null,
   "metadata": {},
   "outputs": [],
   "source": [
    "import bpy\n",
    "\n",
    "# Set the path where you want to save the .gltf file\n",
    "gltf_path = \"myY.gltf\"\n",
    "\n",
    "# Open the main file\n",
    "bpy.ops.wm.open_mainfile(filepath=\"blood_vessel.blend\")\n",
    "\n",
    "# Retrieve the artery object\n",
    "artery_object = bpy.data.objects.get('Artery')\n",
    "\n",
    "if artery_object is None:\n",
    "    print(\"Artery object not found.\")\n",
    "else:\n",
    "    # Make sure the object is a mesh and has vertices\n",
    "    if artery_object.type != 'MESH':\n",
    "        # If it's not a mesh, attempt to convert it to a mesh\n",
    "        bpy.ops.object.select_all(action='DESELECT')\n",
    "        artery_object.select_set(True)\n",
    "        bpy.context.view_layer.objects.active = artery_object\n",
    "        bpy.ops.object.convert(target='MESH')\n",
    "    \n",
    "    if len(artery_object.data.vertices) == 0:\n",
    "        print(\"Artery object has no vertices.\")\n",
    "    else:\n",
    "        # Apply all modifiers (if you want the modifiers to be applied in the export)\n",
    "        bpy.ops.object.modifier_apply(modifier=\"Artery\")\n",
    "\n",
    "        # Select only the artery object\n",
    "        bpy.ops.object.select_all(action='DESELECT')\n",
    "        artery_object.select_set(True)\n",
    "        bpy.context.view_layer.objects.active = artery_object\n",
    "\n",
    "        # Export the selected object to a .gltf\n",
    "        bpy.ops.export_scene.gltf(filepath=gltf_path, use_selection=True)\n",
    "        print(f\"Model exported to {gltf_path}\")\n",
    "\n",
    "from anywidget_3dviewer import Viewer\n",
    "\n",
    "b = Viewer(gltf_data=\"myY.gltf\")\n",
    "b"
   ]
  }
 ],
 "metadata": {
  "kernelspec": {
   "display_name": ".venv",
   "language": "python",
   "name": "python3"
  },
  "language_info": {
   "codemirror_mode": {
    "name": "ipython",
    "version": 3
   },
   "file_extension": ".py",
   "mimetype": "text/x-python",
   "name": "python",
   "nbconvert_exporter": "python",
   "pygments_lexer": "ipython3",
   "version": "3.10.13"
  }
 },
 "nbformat": 4,
 "nbformat_minor": 2
}
