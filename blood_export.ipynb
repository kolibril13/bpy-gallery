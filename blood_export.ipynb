{
 "cells": [
  {
   "cell_type": "code",
   "execution_count": null,
   "metadata": {},
   "outputs": [],
   "source": [
    "import bpy\n",
    "from pathlib import Path\n",
    "\n",
    "gltf_path = Path() / \"_MY_MOD.gltf\"\n",
    "\n",
    "bpy.ops.preferences.addon_enable(module=\"io_scene_gltf2\")\n",
    "\n",
    "bpy.ops.wm.open_mainfile(filepath=\"blood_vessel.blend\")\n",
    "\n",
    "artery_object = bpy.data.objects.get('Artery')\n",
    "\n",
    "bpy.ops.object.select_all(action='DESELECT')\n",
    "artery_object.select_set(True)\n",
    "bpy.context.view_layer.objects.active = artery_object\n",
    "bpy.ops.object.convert(target='MESH')\n",
    "bpy.ops.object.modifier_apply(modifier=\"Artery\")\n",
    "\n",
    "bpy.ops.export_scene.gltf(filepath=str(gltf_path),export_format=\"GLTF_EMBEDDED\", use_selection=True)\n",
    "print(f\"Model exported to {gltf_path}\")\n",
    "\n",
    "data = gltf_path.read_text()\n",
    "\n",
    "from anywidget_3dviewer import Viewer\n",
    "\n",
    "b = Viewer(gltf_data=data)\n",
    "b"
   ]
  },
  {
   "cell_type": "code",
   "execution_count": null,
   "metadata": {},
   "outputs": [],
   "source": []
  }
 ],
 "metadata": {
  "kernelspec": {
   "display_name": ".venv",
   "language": "python",
   "name": "python3"
  },
  "language_info": {
   "codemirror_mode": {
    "name": "ipython",
    "version": 3
   },
   "file_extension": ".py",
   "mimetype": "text/x-python",
   "name": "python",
   "nbconvert_exporter": "python",
   "pygments_lexer": "ipython3",
   "version": "3.10.13"
  }
 },
 "nbformat": 4,
 "nbformat_minor": 2
}
