{
 "cells": [
  {
   "cell_type": "code",
   "execution_count": null,
   "metadata": {},
   "outputs": [],
   "source": [
    "attr_name = 'my_float'\n",
    "attr = plane.data.attributes.get(attr_name)\n",
    "if attr is None:\n",
    "    attr = plane.data.attributes.new(name=attr_name,type='FLOAT',domain='POINT')\n",
    "values = [2.0, 3.0, 4.2, 5.2]\n",
    "attr.data.foreach_set('value', values)\n",
    "plane.data.update()\n",
    "render_result()"
   ]
  },
  {
   "cell_type": "markdown",
   "metadata": {},
   "source": [
    "# Final Remark (attributes)\n",
    "\n",
    "When Reunning cells multiple times, this syntax might be useful:"
   ]
  },
  {
   "cell_type": "markdown",
   "metadata": {},
   "source": [
    "and this is how the spreadsheet looks like (Screenshot from the blender GUI)\n",
    "![image.png](attachment:image.png)\n",
    "\n",
    "Let's start to pipe data into these vertices!"
   ]
  },
  {
   "cell_type": "markdown",
   "metadata": {},
   "source": []
  },
  {
   "cell_type": "code",
   "execution_count": null,
   "metadata": {},
   "outputs": [],
   "source": [
    "material = bpy.data.materials.new(\"MyMaterial\")\n",
    "material.use_nodes = True\n",
    "nodes = material.node_tree.nodes\n",
    "links = material.node_tree.links\n",
    "nodes.clear()\n",
    "attr_node = nodes.new(\"ShaderNodeAttribute\")\n",
    "bsdf_node = nodes.new(\"ShaderNodeBsdfPrincipled\")\n",
    "output_node = nodes.new(\"ShaderNodeOutputMaterial\")\n",
    "links.new(attr_node.outputs['Color'], bsdf_node.inputs['Base Color'])\n",
    "links.new(bsdf_node.outputs['BSDF'], output_node.inputs['Surface'])\n",
    "\n",
    "print(\"Face\")\n",
    "fresh_scene()\n",
    "bpy.ops.mesh.primitive_uv_sphere_add(radius=1.5)\n",
    "obj = bpy.context.object\n",
    "mesh = obj.data\n",
    "attr_name = 'my_color'\n",
    "attr = mesh.attributes.new(attr_name, 'FLOAT_VECTOR', 'FACE')\n",
    "colors = []\n",
    "for i in range(len(mesh.polygons)):\n",
    "    colors.extend([1, 1, 1] if i % 2 == 0 else [0, 0, 0])  # Chessboard pattern\n",
    "attr.data.foreach_set('vector', colors)\n",
    "mesh.update()\n",
    "attr_node.attribute_name = attr_name\n",
    "obj.data.materials.append(material)\n",
    "render_result()\n",
    "\n",
    "print(\"Edge\")\n",
    "fresh_scene()\n",
    "bpy.ops.mesh.primitive_uv_sphere_add(radius=1.5)\n",
    "obj = bpy.context.object\n",
    "mesh = obj.data\n",
    "attr_name = 'my_edge_color'\n",
    "attr = mesh.attributes.new(attr_name, 'FLOAT_VECTOR', 'EDGE')\n",
    "colors = []\n",
    "for i in range(len(mesh.edges)):\n",
    "    colors.extend([1, 1, 1] if i % 2 == 0 else [0, 0, 0])\n",
    "attr.data.foreach_set('vector', colors)\n",
    "mesh.update()\n",
    "attr_node.attribute_name = attr_name\n",
    "obj.data.materials.append(material)\n",
    "render_result()\n",
    "\n",
    "print(\"Vertex\")\n",
    "fresh_scene()\n",
    "bpy.ops.mesh.primitive_uv_sphere_add(radius=1.5)\n",
    "obj = bpy.context.object\n",
    "mesh = obj.data\n",
    "attr_name = 'my_point_color'\n",
    "attr = mesh.attributes.new(attr_name, 'FLOAT_VECTOR', 'POINT')\n",
    "colors = []\n",
    "for i in range(len(mesh.vertices)):\n",
    "    colors.extend([1, 1, 1] if i % 2 == 0 else [0, 0, 0])\n",
    "attr.data.foreach_set('vector', colors)\n",
    "mesh.update()\n",
    "attr_node.attribute_name = attr_name\n",
    "obj.data.materials.append(material)\n",
    "render_result()"
   ]
  },
  {
   "cell_type": "code",
   "execution_count": null,
   "metadata": {},
   "outputs": [],
   "source": [
    "#transparent render\n",
    "bpy.context.scene.render.engine = 'BLENDER_EEVEE_NEXT'\n",
    "\n",
    "# Hide the object named \"Plane\"\n",
    "plane_object = bpy.data.objects.get(\"Plane\")\n",
    "plane_object.hide_render = True\n",
    "\n",
    "# Set render settings\n",
    "bpy.context.scene.render.image_settings.file_format = 'PNG'\n",
    "bpy.context.scene.render.image_settings.color_mode = 'RGBA'\n",
    "bpy.context.scene.render.film_transparent = True\n",
    "\n",
    "render_result()"
   ]
  },
  {
   "cell_type": "code",
   "execution_count": null,
   "metadata": {},
   "outputs": [],
   "source": [
    "# There are many more types of attributes that can be created!\n",
    "# I found a complete list here:\n",
    "# 'FLOAT', 'INT', 'FLOAT_VECTOR', 'FLOAT_COLOR', 'BYTE_COLOR', 'STRING', 'BOOLEAN', 'FLOAT2', 'INT8', 'INT32_2D', 'QUATERNION', 'FLOAT4X4\n",
    "# from this error message:\n",
    "plane.data.attributes.new(name=attr_name,type='brrrrr',domain='POINT')"
   ]
  }
 ],
 "metadata": {
  "kernelspec": {
   "display_name": "Python 3",
   "language": "python",
   "name": "python3"
  },
  "language_info": {
   "codemirror_mode": {
    "name": "ipython",
    "version": 3
   },
   "file_extension": ".py",
   "mimetype": "text/x-python",
   "name": "python",
   "nbconvert_exporter": "python",
   "pygments_lexer": "ipython3",
   "version": "3.13.0"
  }
 },
 "nbformat": 4,
 "nbformat_minor": 2
}
