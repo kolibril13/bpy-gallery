{
 "cells": [
  {
   "cell_type": "code",
   "execution_count": null,
   "metadata": {},
   "outputs": [],
   "source": [
    "import bpy\n",
    "from IPython.display import display\n",
    "from anywidget_3dviewer import Viewer\n",
    "from pathlib import Path\n",
    "\n",
    "def make_gltf_model():\n",
    "\n",
    "    bpy.ops.preferences.addon_enable(module='io_scene_gltf2')\n",
    "\n",
    "    bpy.ops.object.select_all(action=\"DESELECT\")\n",
    "    bpy.ops.object.select_by_type(type=\"MESH\")\n",
    "    bpy.ops.object.delete()\n",
    "    bpy.ops.mesh.primitive_cube_add(size=2, align=\"WORLD\", location=(0, 1, 1))\n",
    "\n",
    "    cube = bpy.context.active_object\n",
    "\n",
    "    material = bpy.data.materials.new(name=\"BlueMaterial\")\n",
    "    cube.data.materials.append(material)\n",
    "    material.use_nodes = True\n",
    "    nodes = material.node_tree.nodes\n",
    "\n",
    "    for node in nodes:\n",
    "        nodes.remove(node)\n",
    "\n",
    "    bsdf = nodes.new(type=\"ShaderNodeBsdfPrincipled\")\n",
    "    bsdf.location = (400, 0)\n",
    "    bsdf.inputs[\"Base Color\"].default_value = (1, 0.5, 0, 1)\n",
    "    output = nodes.new(type=\"ShaderNodeOutputMaterial\")\n",
    "    output.location = (600, 0)\n",
    "\n",
    "    material.node_tree.links.new(bsdf.outputs[\"BSDF\"], output.inputs[\"Surface\"])\n",
    "\n",
    "\n",
    "    gltf_path = \"./model_cube.gltf\"\n",
    "    bpy.ops.object.select_all(action='DESELECT')\n",
    "    cube.select_set(True)\n",
    "    bpy.ops.export_scene.gltf(filepath=gltf_path, export_format='GLTF_EMBEDDED', use_selection=True)\n",
    "\n",
    "\n",
    "    gltf_path = Path() / \"model_cube.gltf\"\n",
    "    data = gltf_path.read_bytes()\n",
    "    gltf_path.unlink()\n",
    "\n",
    "    return data\n",
    "\n",
    "data = make_gltf_model()\n",
    "\n",
    "display(Viewer(gltf_data=data))"
   ]
  },
  {
   "cell_type": "code",
   "execution_count": null,
   "metadata": {},
   "outputs": [],
   "source": [
    "bsdf.inputs[\"Base Color\"].default_value = (1, 0.5, 0, 1)"
   ]
  },
  {
   "cell_type": "code",
   "execution_count": null,
   "metadata": {},
   "outputs": [],
   "source": [
    "bsdf.inputs[\"Base Color\"].default_value = (1, 0.5, 0, 1)"
   ]
  }
 ],
 "metadata": {
  "kernelspec": {
   "display_name": ".venv",
   "language": "python",
   "name": "python3"
  },
  "language_info": {
   "codemirror_mode": {
    "name": "ipython",
    "version": 3
   },
   "file_extension": ".py",
   "mimetype": "text/x-python",
   "name": "python",
   "nbconvert_exporter": "python",
   "pygments_lexer": "ipython3",
   "version": "3.10.13"
  },
  "orig_nbformat": 4
 },
 "nbformat": 4,
 "nbformat_minor": 2
}
