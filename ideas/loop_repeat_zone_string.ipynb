{
 "cells": [
  {
   "cell_type": "code",
   "execution_count": null,
   "id": "0af0d5a3-9dd0-4a21-a36a-3383f7d7ab5a",
   "metadata": {},
   "outputs": [],
   "source": [
    "import bpy\n",
    "\n",
    "def set_labels(new_values):\n",
    "    obj = bpy.data.objects.get(\"Circle\")\n",
    "    geo_modifier = obj.modifiers.get(\"GeometryNodes\")\n",
    "    node_tree = geo_modifier.node_group\n",
    "    # Collect all String nodes along with their labels\n",
    "    string_nodes = [(node, node.label) for node in node_tree.nodes if node.type == 'INPUT_STRING']\n",
    "\n",
    "    # Sort nodes based on their labels\n",
    "    string_nodes.sort(key=lambda x: x[1])\n",
    "\n",
    "    # Update the string values of the sorted nodes\n",
    "    for node, new_value in zip(string_nodes, new_values):\n",
    "        node[0].string = new_value\n",
    "        print(f\"Updated node Label: {node[1]} with value: {new_value}\")\n",
    "\n",
    "    bpy.context.view_layer.update()\n",
    "\n",
    "# Call the function with the first set of values\n",
    "\n",
    "# Call the function with the second set of values\n",
    "set_labels([\"Zero\", \"One\", \"Two\", \"Three\", \"Four\", \"Five\", \"Six\", \"Seven\", \n",
    "            \"Eight\", \"Nine\", \"Ten\", \"Eleven\", \"Twelve\", \"Thirteen\"])"
   ]
  },
  {
   "cell_type": "code",
   "execution_count": null,
   "id": "57c3cdc8-ed0d-4df4-b0f8-2a89546f1c7f",
   "metadata": {},
   "outputs": [],
   "source": [
    "set_labels([\"A\", \"B\", \"C\", \"D\", \"E\", \"F\", \"G\", \"H\", \"I\", \"J\", \"K\", \"L\", \"M\", \"N\"])\n"
   ]
  },
  {
   "cell_type": "code",
   "execution_count": null,
   "id": "eb6f6241",
   "metadata": {},
   "outputs": [],
   "source": []
  }
 ],
 "metadata": {
  "kernelspec": {
   "display_name": "Python 3 (ipykernel)",
   "language": "python",
   "name": "python3"
  },
  "language_info": {
   "codemirror_mode": {
    "name": "ipython",
    "version": 3
   },
   "file_extension": ".py",
   "mimetype": "text/x-python",
   "name": "python",
   "nbconvert_exporter": "python",
   "pygments_lexer": "ipython3",
   "version": "3.11.11"
  },
  "orig_nbformat": 4
 },
 "nbformat": 4,
 "nbformat_minor": 5
}
