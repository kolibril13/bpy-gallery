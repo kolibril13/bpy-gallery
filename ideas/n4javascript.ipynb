{
 "cells": [
  {
   "cell_type": "markdown",
   "metadata": {},
   "source": [
    "# JS"
   ]
  },
  {
   "cell_type": "code",
   "execution_count": 2,
   "metadata": {},
   "outputs": [
    {
     "data": {
      "application/vnd.jupyter.widget-view+json": {
       "model_id": "d05f184a745c4018a18659b0edddbe1c",
       "version_major": 2,
       "version_minor": 0
      },
      "text/plain": [
       "FloatSlider(value=0.0, max=1.0)"
      ]
     },
     "metadata": {},
     "output_type": "display_data"
    }
   ],
   "source": [
    "import ipywidgets as widgets\n",
    "from IPython.display import display, clear_output\n",
    "\n",
    "import bpy\n",
    "cube = bpy.data.objects['Cube']\n",
    "\n",
    "\n",
    "widget = widgets.FloatSlider(value=0.0, min=0.0, max=1)\n",
    "\n",
    "display(widget)"
   ]
  },
  {
   "cell_type": "code",
   "execution_count": 3,
   "metadata": {},
   "outputs": [],
   "source": [
    "cube.location.z = widget.value"
   ]
  },
  {
   "cell_type": "code",
   "execution_count": 4,
   "metadata": {},
   "outputs": [],
   "source": [
    "def update_cube_translation(translation_value):\n",
    "    cube.location.z = translation_value\n",
    "    bpy.context.view_layer.update()\n",
    "\n",
    "# Function to handle slider value changes\n",
    "def on_slider_change(change):\n",
    "    update_cube_translation(change['new'])\n",
    "\n",
    "# Observe the slider\n",
    "widget.observe(on_slider_change, names='value')\n",
    "\n",
    "# Initial update of the cube's translation\n",
    "update_cube_translation(widget.value)"
   ]
  },
  {
   "cell_type": "code",
   "execution_count": 5,
   "metadata": {},
   "outputs": [],
   "source": [
    "# Proof of concept: Marimo notebook do not need this observe function:\n",
    "# https://github.com/iplai/marimo-blender/tree/main?tab=readme-ov-file#showcase\n",
    "#"
   ]
  },
  {
   "cell_type": "code",
   "execution_count": null,
   "metadata": {},
   "outputs": [],
   "source": []
  }
 ],
 "metadata": {
  "kernelspec": {
   "display_name": ".venv",
   "language": "python",
   "name": "python3"
  },
  "language_info": {
   "codemirror_mode": {
    "name": "ipython",
    "version": 3
   },
   "file_extension": ".py",
   "mimetype": "text/x-python",
   "name": "python",
   "nbconvert_exporter": "python",
   "pygments_lexer": "ipython3",
   "version": "3.11.10"
  }
 },
 "nbformat": 4,
 "nbformat_minor": 2
}
