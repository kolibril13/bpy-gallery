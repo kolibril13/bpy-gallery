{
 "cells": [
  {
   "cell_type": "code",
   "execution_count": 1,
   "metadata": {},
   "outputs": [
    {
     "name": "stdout",
     "output_type": "stream",
     "text": [
      "Error: Cannot read file \"/Users/jan-hendrik/projects/ipyblender-experimental/donut.blend\": No such file or directory\n"
     ]
    },
    {
     "ename": "RuntimeError",
     "evalue": "Error: Cannot read file \"/Users/jan-hendrik/projects/ipyblender-experimental/donut.blend\": No such file or directory\n",
     "output_type": "error",
     "traceback": [
      "\u001b[0;31m---------------------------------------------------------------------------\u001b[0m",
      "\u001b[0;31mRuntimeError\u001b[0m                              Traceback (most recent call last)",
      "Cell \u001b[0;32mIn[1], line 4\u001b[0m\n\u001b[1;32m      2\u001b[0m \u001b[38;5;28;01mfrom\u001b[39;00m \u001b[38;5;21;01mIPython\u001b[39;00m\u001b[38;5;21;01m.\u001b[39;00m\u001b[38;5;21;01mdisplay\u001b[39;00m \u001b[38;5;28;01mimport\u001b[39;00m display, Image\n\u001b[1;32m      3\u001b[0m path \u001b[38;5;241m=\u001b[39m \u001b[38;5;124m\"\u001b[39m\u001b[38;5;124mtest.png\u001b[39m\u001b[38;5;124m\"\u001b[39m\n\u001b[0;32m----> 4\u001b[0m \u001b[43mbpy\u001b[49m\u001b[38;5;241;43m.\u001b[39;49m\u001b[43mops\u001b[49m\u001b[38;5;241;43m.\u001b[39;49m\u001b[43mwm\u001b[49m\u001b[38;5;241;43m.\u001b[39;49m\u001b[43mopen_mainfile\u001b[49m\u001b[43m(\u001b[49m\u001b[43mfilepath\u001b[49m\u001b[38;5;241;43m=\u001b[39;49m\u001b[38;5;124;43m\"\u001b[39;49m\u001b[38;5;124;43mdonut.blend\u001b[39;49m\u001b[38;5;124;43m\"\u001b[39;49m\u001b[43m)\u001b[49m\n\u001b[1;32m      6\u001b[0m bpy\u001b[38;5;241m.\u001b[39mops\u001b[38;5;241m.\u001b[39mobject\u001b[38;5;241m.\u001b[39mselect_all(action\u001b[38;5;241m=\u001b[39m\u001b[38;5;124m'\u001b[39m\u001b[38;5;124mDESELECT\u001b[39m\u001b[38;5;124m'\u001b[39m)\n\u001b[1;32m      8\u001b[0m icing_text_obj \u001b[38;5;241m=\u001b[39m bpy\u001b[38;5;241m.\u001b[39mdata\u001b[38;5;241m.\u001b[39mobjects\u001b[38;5;241m.\u001b[39mget(\u001b[38;5;124m'\u001b[39m\u001b[38;5;124mIcingText\u001b[39m\u001b[38;5;124m'\u001b[39m)\n",
      "File \u001b[0;32m~/projects/ipyblender-experimental/.venv/lib/python3.11/site-packages/bpy/4.1/scripts/modules/bpy/ops.py:109\u001b[0m, in \u001b[0;36m_BPyOpsSubModOp.__call__\u001b[0;34m(self, *args, **kw)\u001b[0m\n\u001b[1;32m    107\u001b[0m     ret \u001b[38;5;241m=\u001b[39m _op_call(\u001b[38;5;28mself\u001b[39m\u001b[38;5;241m.\u001b[39midname_py(), kw, C_exec, C_undo)\n\u001b[1;32m    108\u001b[0m \u001b[38;5;28;01melse\u001b[39;00m:\n\u001b[0;32m--> 109\u001b[0m     ret \u001b[38;5;241m=\u001b[39m \u001b[43m_op_call\u001b[49m\u001b[43m(\u001b[49m\u001b[38;5;28;43mself\u001b[39;49m\u001b[38;5;241;43m.\u001b[39;49m\u001b[43midname_py\u001b[49m\u001b[43m(\u001b[49m\u001b[43m)\u001b[49m\u001b[43m,\u001b[49m\u001b[43m \u001b[49m\u001b[43mkw\u001b[49m\u001b[43m)\u001b[49m\n\u001b[1;32m    111\u001b[0m \u001b[38;5;28;01mif\u001b[39;00m \u001b[38;5;124m'\u001b[39m\u001b[38;5;124mFINISHED\u001b[39m\u001b[38;5;124m'\u001b[39m \u001b[38;5;129;01min\u001b[39;00m ret \u001b[38;5;129;01mand\u001b[39;00m context\u001b[38;5;241m.\u001b[39mwindow_manager \u001b[38;5;241m==\u001b[39m wm:\n\u001b[1;32m    112\u001b[0m     _BPyOpsSubModOp\u001b[38;5;241m.\u001b[39m_view_layer_update(context)\n",
      "\u001b[0;31mRuntimeError\u001b[0m: Error: Cannot read file \"/Users/jan-hendrik/projects/ipyblender-experimental/donut.blend\": No such file or directory\n"
     ]
    }
   ],
   "source": [
    "import bpy\n",
    "from IPython.display import display, Image\n",
    "path = \"test.png\"\n",
    "bpy.ops.wm.open_mainfile(filepath=\"donut.blend\")\n",
    "\n",
    "bpy.ops.object.select_all(action='DESELECT')\n",
    "\n",
    "icing_text_obj = bpy.data.objects.get('IcingText')\n",
    "\n",
    "icing_text_obj.modifiers[\"GeometryNodes\"][\"Socket_9\"]= \"Hello\"\n",
    "\n",
    "bpy.context.scene.render.resolution_x = 100\n",
    "bpy.context.scene.render.resolution_y = 100\n",
    "bpy.context.scene.render.image_settings.file_format = 'PNG'\n",
    "bpy.ops.render.render()\n",
    "bpy.data.images['Render Result'].save_render(filepath=path)\n",
    "\n",
    "display(Image(filename=path, width=500))"
   ]
  },
  {
   "cell_type": "code",
   "execution_count": null,
   "metadata": {},
   "outputs": [],
   "source": []
  }
 ],
 "metadata": {
  "kernelspec": {
   "display_name": "Python 3 (ipykernel)",
   "language": "python",
   "name": "python3"
  },
  "language_info": {
   "codemirror_mode": {
    "name": "ipython",
    "version": 3
   },
   "file_extension": ".py",
   "mimetype": "text/x-python",
   "name": "python",
   "nbconvert_exporter": "python",
   "pygments_lexer": "ipython3",
   "version": "3.11.9"
  }
 },
 "nbformat": 4,
 "nbformat_minor": 4
}
